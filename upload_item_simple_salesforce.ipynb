{
 "cells": [
  {
   "cell_type": "code",
   "execution_count": 1,
   "metadata": {},
   "outputs": [],
   "source": [
    "from simple_salesforce import Salesforce, format_soql, SalesforceLogin, SFType\n",
    "import json\n",
    "import datetime"
   ]
  },
  {
   "cell_type": "code",
   "execution_count": 2,
   "metadata": {},
   "outputs": [],
   "source": [
    "with open(\"login.json\", \"r\") as login_file:\n",
    "    creds = json.load(login_file)"
   ]
  },
  {
   "cell_type": "code",
   "execution_count": 3,
   "metadata": {},
   "outputs": [],
   "source": [
    "# Login to SF\n",
    "#sf = Salesforce(username=creds['login']['username'],\n",
    "#                password=creds['login']['password'],\n",
    "#                security_token=creds['login']['token'])\n",
    "\n",
    "#Alternative way using instance and session id"
   ]
  },
  {
   "cell_type": "code",
   "execution_count": 4,
   "metadata": {},
   "outputs": [],
   "source": [
    "# Login to SF\n",
    "username=creds['login']['username']\n",
    "password=creds['login']['password']\n",
    "security_token=creds['login']['token']\n",
    "\n",
    "session_id, instance = SalesforceLogin(\n",
    "    username=username, password=password, security_token=security_token)\n",
    "\n",
    "sf = Salesforce(instance=instance, session_id=session_id)"
   ]
  },
  {
   "cell_type": "code",
   "execution_count": 52,
   "metadata": {},
   "outputs": [],
   "source": [
    "# Creating \n",
    "new_opportunity = SFType('Opportunity', session_id, instance)\n",
    "data = {\n",
    "    'Name': 'customer.xyz',\n",
    "    'StageName' :   'Closed Won', \n",
    "    'CloseDate' : (today).isoformat() +'Z',    #+ datetime.timedelta(days=45)).isoformat() + 'Z'  in the opportunity called \"Decision date\"\n",
    "    'Segment__c' : 'Services', \n",
    "    'Vertical__c' : 'Existing OEMs',\n",
    "    'NextStep' : 'Delivery',\n",
    "    'AccountId' xxxxxxxxxxxxxxxxxxxx', \n",
    "    'Probability' : '100',\n",
    "    'Pricebook2Id' : 'xxxxxxxxxxxxxxx'  \n",
    "}\n",
    "\n",
    "\n",
    "response = new_opportunity.create(data)"
   ]
  },
  {
   "cell_type": "code",
   "execution_count": 11,
   "metadata": {},
   "outputs": [],
   "source": [
    "new_opportunity_line_item = SFType('OpportunityLineItem', session_id, instance)\n",
    "\n",
    "data = {\n",
    "    'UnitPrice': 310.32,\n",
    "    'OpportunityId' : 'xxxxxxxxxxx', \n",
    "    'Quantity' : '20',        \n",
    "    'Product2Id' : 'xxxxxxxxxxxx'  , \n",
    "    'Customer_PO__c' : '7113447008', \n",
    "    'ServiceDate' : (today).isoformat() +'Z',\n",
    "    'Customer_PO_DATE__c' : (today).isoformat() +'Z'\n",
    "}\n",
    "\n",
    "response = new_opportunity_line_item.create(data)"
   ]
  },
  {
   "cell_type": "code",
   "execution_count": null,
   "metadata": {},
   "outputs": [],
   "source": []
  }
 ],
 "metadata": {
  "interpreter": {
   "hash": "916dbcbb3f70747c44a77c7bcd40155683ae19c65e1c03b4aa3499c5328201f1"
  },
  "kernelspec": {
   "display_name": "Python 3.8.10 64-bit",
   "name": "python3"
  },
  "language_info": {
   "codemirror_mode": {
    "name": "ipython",
    "version": 3
   },
   "file_extension": ".py",
   "mimetype": "text/x-python",
   "name": "python",
   "nbconvert_exporter": "python",
   "pygments_lexer": "ipython3",
   "version": "3.8.10"
  },
  "orig_nbformat": 4
 },
 "nbformat": 4,
 "nbformat_minor": 2
}
