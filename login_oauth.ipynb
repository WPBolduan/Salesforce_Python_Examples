{
 "cells": [
  {
   "cell_type": "markdown",
   "metadata": {},
   "source": [
    "Access Salesforce through Python based on OAuth method\n",
    "Primary Source: https://jereze.com/code/authentification-salesforce-rest-api-python/"
   ]
  },
  {
   "cell_type": "code",
   "execution_count": 8,
   "metadata": {},
   "outputs": [],
   "source": [
    "import requests\n",
    "import json"
   ]
  },
  {
   "cell_type": "code",
   "execution_count": 9,
   "metadata": {},
   "outputs": [],
   "source": [
    "with open(\"login_oauth.json\", \"r\") as login_file:\n",
    "    creds = json.load(login_file)"
   ]
  },
  {
   "cell_type": "code",
   "execution_count": 11,
   "metadata": {},
   "outputs": [
    {
     "name": "stdout",
     "output_type": "stream",
     "text": [
      "authorization response: <Response [200]>\n"
     ]
    }
   ],
   "source": [
    "#Please refer to the above mentioned link\n",
    "#In order to hide credentials I read them in through the login_oauth.json file\n",
    "\n",
    "#PARAMS={\n",
    "#'grant_type': 'password',\n",
    "#'client_id': '3MVfXRZv05Hxxxxxxxxxxxxxxxxxxxxxxxxxxxxxxxxxxxxxxxxxxxxxxx',\n",
    "#'client_secret': '0A7Exxxxxxxxxxxxxxxxxxxxxxxxxxxxxxxxxxxxxxxxxxxxxxxxxxx',\n",
    "#'username': 'username',\n",
    "#'password': 'gYxhgxxxxxxxxxxxxxxxxxxxxxxxxxxxxxxxxxxxxxxxxxxxxxxxxxxxxxx'} \n",
    "\n",
    "\n",
    "PARAMS = creds\n",
    "authorization_response = requests.post(url='https://login.salesforce.com/services/oauth2/token', data=PARAMS)\n",
    "print('authorization response: {}'.format(authorization_response))\n",
    "response=authorization_response.json()"
   ]
  },
  {
   "cell_type": "code",
   "execution_count": 12,
   "metadata": {},
   "outputs": [],
   "source": [
    " #login into SF productive system\n",
    "sf = Salesforce(instance_url=response['instance_url'], session_id=response['access_token'])"
   ]
  },
  {
   "cell_type": "code",
   "execution_count": null,
   "metadata": {},
   "outputs": [],
   "source": []
  }
 ],
 "metadata": {
  "interpreter": {
   "hash": "916dbcbb3f70747c44a77c7bcd40155683ae19c65e1c03b4aa3499c5328201f1"
  },
  "kernelspec": {
   "display_name": "Python 3.8.10 64-bit",
   "language": "python",
   "name": "python3"
  },
  "language_info": {
   "codemirror_mode": {
    "name": "ipython",
    "version": 3
   },
   "file_extension": ".py",
   "mimetype": "text/x-python",
   "name": "python",
   "nbconvert_exporter": "python",
   "pygments_lexer": "ipython3",
   "version": "3.8.10"
  },
  "orig_nbformat": 4
 },
 "nbformat": 4,
 "nbformat_minor": 2
}
