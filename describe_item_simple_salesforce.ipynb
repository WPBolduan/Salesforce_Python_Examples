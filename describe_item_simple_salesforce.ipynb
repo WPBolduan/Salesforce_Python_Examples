{
 "cells": [
  {
   "cell_type": "code",
   "execution_count": 3,
   "metadata": {},
   "outputs": [],
   "source": [
    "from simple_salesforce import Salesforce, format_soql, SalesforceLogin, SFType\n",
    "import json"
   ]
  },
  {
   "cell_type": "code",
   "execution_count": 4,
   "metadata": {},
   "outputs": [],
   "source": [
    "with open(\"login.json\", \"r\") as login_file:\n",
    "    creds = json.load(login_file)\n",
    "#Json file format:\n",
    "#\n",
    "#{\n",
    "#    \"login\": {\n",
    "#        \"username\": \"put username here\",\n",
    "#        \"password\": \"put password here\",\n",
    "#        \"token\": \"put access token here\"\n",
    "#    }\n",
    "#}"
   ]
  },
  {
   "cell_type": "code",
   "execution_count": 6,
   "metadata": {},
   "outputs": [],
   "source": [
    "# Login to SF\n",
    "username=creds['login']['username']\n",
    "password=creds['login']['password']\n",
    "security_token=creds['login']['token']\n",
    "\n",
    "session_id, instance = SalesforceLogin(\n",
    "    username=username, password=password, security_token=security_token)\n",
    "\n",
    "sf = Salesforce(instance=instance, session_id=session_id)"
   ]
  },
  {
   "cell_type": "code",
   "execution_count": 9,
   "metadata": {},
   "outputs": [],
   "source": [
    "desc = sf.transfer__c.describe()  "
   ]
  },
  {
   "cell_type": "code",
   "execution_count": null,
   "metadata": {},
   "outputs": [],
   "source": [
    "print (desc['urls'])"
   ]
  },
  {
   "cell_type": "code",
   "execution_count": null,
   "metadata": {},
   "outputs": [],
   "source": [
    "field_names = [field['name'] for field in desc['fields']]\n",
    "\n",
    "print (field_names)"
   ]
  }
 ],
 "metadata": {
  "interpreter": {
   "hash": "916dbcbb3f70747c44a77c7bcd40155683ae19c65e1c03b4aa3499c5328201f1"
  },
  "kernelspec": {
   "display_name": "Python 3.8.10 64-bit",
   "name": "python3"
  },
  "language_info": {
   "codemirror_mode": {
    "name": "ipython",
    "version": 3
   },
   "file_extension": ".py",
   "mimetype": "text/x-python",
   "name": "python",
   "nbconvert_exporter": "python",
   "pygments_lexer": "ipython3",
   "version": "3.8.10"
  },
  "orig_nbformat": 4
 },
 "nbformat": 4,
 "nbformat_minor": 2
}
