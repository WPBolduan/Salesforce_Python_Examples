{
 "cells": [
  {
   "cell_type": "markdown",
   "metadata": {},
   "source": [
    "Access Salesforce through Python based on OAuth method\n",
    "Primary Source: https://jereze.com/code/authentification-salesforce-rest-api-python/"
   ]
  },
  {
   "cell_type": "code",
   "execution_count": 5,
   "metadata": {},
   "outputs": [],
   "source": [
    "import json\n",
    "import datetime\n",
    "import requests\n",
    "import base64\n",
    "\n",
    "from simple_salesforce.api import SFType"
   ]
  },
  {
   "cell_type": "code",
   "execution_count": 6,
   "metadata": {},
   "outputs": [],
   "source": [
    "with open(\"login_oauth.json\", \"r\") as login_file:\n",
    "    creds = json.load(login_file)"
   ]
  },
  {
   "cell_type": "code",
   "execution_count": 7,
   "metadata": {},
   "outputs": [
    {
     "name": "stdout",
     "output_type": "stream",
     "text": [
      "authorization response: <Response [200]>\n"
     ]
    }
   ],
   "source": [
    "#Login \n",
    "PARAMS = creds\n",
    "authorization_response = requests.post(url='https://login.salesforce.com/services/oauth2/token', data=PARAMS)\n",
    "print('authorization response: {}'.format(authorization_response))\n",
    "response=authorization_response.json()\n",
    "access_token = response['access_token']\n",
    "instance_url = response['instance_url']"
   ]
  },
  {
   "cell_type": "code",
   "execution_count": 8,
   "metadata": {},
   "outputs": [],
   "source": [
    "def sf_api_call(action, parameters = {}, method = 'get', data = {}):\n",
    "    \"\"\"\n",
    "    Helper function to make calls to Salesforce REST API.\n",
    "    Parameters: action (the URL), URL params, method (get, post or patch), data for POST/PATCH.\n",
    "    \"\"\"\n",
    "    headers = {\n",
    "        'Content-type': 'application/json',\n",
    "        'Accept-Encoding': 'charset=UTF-8',\n",
    "        'Authorization': 'Bearer %s' % access_token\n",
    "    }\n",
    "    print (access_token)\n",
    "    print (instance_url)\n",
    "    if method == 'get':\n",
    "        r = requests.request(method, instance_url+action, headers=headers, params=parameters, timeout=30)\n",
    "    elif method in ['post', 'patch']:\n",
    "        r = requests.request(method, instance_url+action, headers=headers, json=data, params=parameters, timeout=10)\n",
    "    else:\n",
    "        # other methods not implemented in this example\n",
    "        raise ValueError('Method should be get or post or patch.')\n",
    "    print('Debug: API %s call: %s' % (method, r.url) )\n",
    "    if r.status_code < 300:\n",
    "        if method=='patch':\n",
    "            return None\n",
    "        else:\n",
    "            return r.json()\n",
    "    else:\n",
    "        raise Exception('API error when calling %s : %s' % (r.url, r.content))\n"
   ]
  },
  {
   "cell_type": "code",
   "execution_count": null,
   "metadata": {},
   "outputs": [],
   "source": [
    "\n",
    "full_aava_code='AU08LQGD4A3XD06.1'\n",
    "print(json.dumps(sf_api_call('/services/data/v42.0/query/', {\n",
    "    'q': \"SELECT Id FROM Product2 Where SalesProductCodewithVersion__c = 'AU08LQGD4A3XD06.1'\"\n",
    "}), indent=2))\n"
   ]
  },
  {
   "cell_type": "code",
   "execution_count": null,
   "metadata": {},
   "outputs": [],
   "source": [
    "full_aava_code='AU08LQGD4A3XD06.1'\n",
    "test=sf_api_call('/services/data/v42.0/query/', {\n",
    "    'q': \"SELECT Id FROM Product2 Where SalesProductCodewithVersion__c = '\" + full_aava_code + \"'\"\n",
    "})"
   ]
  },
  {
   "cell_type": "code",
   "execution_count": 11,
   "metadata": {},
   "outputs": [],
   "source": [
    "test=test['records'][0]"
   ]
  },
  {
   "cell_type": "code",
   "execution_count": null,
   "metadata": {},
   "outputs": [],
   "source": [
    "test['Id']"
   ]
  },
  {
   "cell_type": "code",
   "execution_count": null,
   "metadata": {},
   "outputs": [],
   "source": [
    "#upload data, needs to be in dictionary\n",
    "for i in json_dicti:\n",
    "    call = sf_api_call('/services/data/v42.0/sobjects/Shipping__c/', method=\"post\", data=i)\n",
    "    shipping_id = call.get('id')"
   ]
  }
 ],
 "metadata": {
  "interpreter": {
   "hash": "916dbcbb3f70747c44a77c7bcd40155683ae19c65e1c03b4aa3499c5328201f1"
  },
  "kernelspec": {
   "display_name": "Python 3.8.10 64-bit",
   "name": "python3"
  },
  "language_info": {
   "codemirror_mode": {
    "name": "ipython",
    "version": 3
   },
   "file_extension": ".py",
   "mimetype": "text/x-python",
   "name": "python",
   "nbconvert_exporter": "python",
   "pygments_lexer": "ipython3",
   "version": "3.8.10"
  },
  "orig_nbformat": 4
 },
 "nbformat": 4,
 "nbformat_minor": 2
}
